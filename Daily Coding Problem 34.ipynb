{
 "cells": [
  {
   "cell_type": "markdown",
   "id": "b86da93e",
   "metadata": {},
   "source": [
    "# Daily Coding Problem 34"
   ]
  },
  {
   "cell_type": "raw",
   "id": "5b6124a9",
   "metadata": {},
   "source": [
    "This problem was asked by Quora.\n",
    "\n",
    "Given a string, find the palindrome that can be made by inserting the fewest number of characters as possible anywhere in the word. If there is more than one palindrome of minimum length that can be made, return the lexicographically earliest one (the first one alphabetically).\n",
    "\n",
    "For example, given the string \"race\", you should return \"ecarace\", since we can add three letters to it (which is the smallest amount to make a palindrome). There are seven other palindromes that can be made from \"race\" by adding three letters, but \"ecarace\" comes first alphabetically.\n",
    "\n",
    "As another example, given the string \"google\", you should return \"elgoogle\"."
   ]
  },
  {
   "cell_type": "markdown",
   "id": "a6736bf1",
   "metadata": {},
   "source": [
    "# Solution\n",
    "\n",
    "Notice that whenever we add a character, it should ideally match the one on the other side of the string. We can use the following recurrence to solve this problem:\n",
    "\n",
    " * If s is already a palindrome, then just return s -- it's already the shortest palindrome we can make\n",
    " * If the first character of s (let's call it a) is the same as the last, then return a + make_palindrome(s[1:-1])    + a\n",
    " * If the first character of s is different from the last (let's call this b), then return the minimum between:\n",
    "      \n",
    "      * a + make_palindrome(s[1:]) + a\n",
    "      * b + make_palindrome(s[:-1]) + b or the lexicographically earliest one if their lengths are equal.\n",
    "      \n",
    "So a naive recursive solution might look like this:"
   ]
  },
  {
   "cell_type": "code",
   "execution_count": 1,
   "id": "1390322d",
   "metadata": {},
   "outputs": [],
   "source": [
    "def is_palindrome(s):\n",
    "    return s == s[::-1]\n",
    "\n",
    "def make_palindrome(s):\n",
    "    if is_palindrome(s):\n",
    "        return s\n",
    "    if s[0] == s[-1]:\n",
    "        return s[0] + make_palindrome(s[1:-1]) + s[-1]\n",
    "    else:\n",
    "        one = s[0] + make_palindrome(s[1:]) + s[0]\n",
    "        two = s[-1] + make_palindrome(s[:-1]) + s[-1]\n",
    "        if len(one) < len(two):\n",
    "            return one\n",
    "        elif len(one) > len(two):\n",
    "            return two\n",
    "        else:\n",
    "            return min(one, two)"
   ]
  },
  {
   "cell_type": "markdown",
   "id": "a8ccd810",
   "metadata": {},
   "source": [
    "Recall that the min of two strings in python will return the lexicographically earliest one!\n",
    "\n",
    "However, this algorithm runs in O(2^N) time, since we could potentially make two recursive calls each time. We can speed up using dynamic programming, as usual. We can either memoize our results so that we don't duplicate any work, or use a table and do bottom-up programming.\n",
    "\n",
    "Let's start with memoization. We can keep a cache and store all our results when we compute them in the cache. If we come across a string we've seen before, then we just need to look it up in the cache.\n",
    "\n"
   ]
  },
  {
   "cell_type": "code",
   "execution_count": 2,
   "id": "d4a092ed",
   "metadata": {},
   "outputs": [],
   "source": [
    "cache = {}\n",
    "\n",
    "def is_palindrome(s):\n",
    "    return s == s[::-1]\n",
    "\n",
    "def make_palindrome(s):\n",
    "    if s in cache:\n",
    "        return cache[s]\n",
    "\n",
    "    if is_palindrome(s):\n",
    "        cache[s] = s\n",
    "        return s\n",
    "    if s[0] == s[-1]:\n",
    "        result = s[0] + make_palindrome(s[1:-1]) + s[-1]\n",
    "        cache[s] = result\n",
    "        return result\n",
    "    else:\n",
    "        one = s[0] + make_palindrome(s[1:]) + s[0]\n",
    "        two = s[-1] + make_palindrome(s[:-1]) + s[-1]\n",
    "        cache[s] = min(one, two)\n",
    "        return min(one, two)"
   ]
  },
  {
   "cell_type": "markdown",
   "id": "382b9ddd",
   "metadata": {},
   "source": [
    "However, this is inefficient due to buildup in the call stack. We can build a 2D table instead. We'll store, in each index, the shortest palindrome that can be made in the substring defined from i to i + j. Then instead of calling ourselves recursively, we'll just look up the values in our table:\n",
    "\n"
   ]
  },
  {
   "cell_type": "code",
   "execution_count": 4,
   "id": "a2777f40",
   "metadata": {},
   "outputs": [
    {
     "name": "stdout",
     "output_type": "stream",
     "text": [
      "elgoogle\n"
     ]
    }
   ],
   "source": [
    "def make_palindrome(s):\n",
    "    if len(s) <= 1:\n",
    "        return s\n",
    "    table = [['' for i in range(len(s) + 1)] for j in range(len(s) + 1)]\n",
    "\n",
    "    for i in range(len(s)):\n",
    "        table[i][1] = s[i]\n",
    "\n",
    "    for j in range(2, len(s) + 1):\n",
    "        for i in range(len(s) - j + 1):\n",
    "            term = s[i:i + j]\n",
    "            first, last = term[0], term[-1]\n",
    "            if first == last:\n",
    "                table[i][j] = first + table[i + 1][j - 2] + last\n",
    "            else:\n",
    "                one = first + table[i + 1][j - 1] + first\n",
    "                two = last + table[i][j - 1] + last\n",
    "                if len(one) < len(two):\n",
    "                    table[i][j] = one\n",
    "                elif len(one) > len(two):\n",
    "                    table[i][j] = two\n",
    "                else:\n",
    "                    table[i][j] = min(one, two)\n",
    "\n",
    "    return table[0][-1]\n",
    "\n",
    "print(make_palindrome('google'))"
   ]
  },
  {
   "cell_type": "markdown",
   "id": "feeb2428",
   "metadata": {},
   "source": [
    "Because we store a part of our input string in each index of our matrix, the time and space complexity for this solution is O(N^3)."
   ]
  }
 ],
 "metadata": {
  "kernelspec": {
   "display_name": "Python 3 (ipykernel)",
   "language": "python",
   "name": "python3"
  },
  "language_info": {
   "codemirror_mode": {
    "name": "ipython",
    "version": 3
   },
   "file_extension": ".py",
   "mimetype": "text/x-python",
   "name": "python",
   "nbconvert_exporter": "python",
   "pygments_lexer": "ipython3",
   "version": "3.8.10"
  }
 },
 "nbformat": 4,
 "nbformat_minor": 5
}
